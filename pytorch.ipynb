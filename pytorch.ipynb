{
 "cells": [
  {
   "cell_type": "code",
   "execution_count": 1,
   "metadata": {},
   "outputs": [],
   "source": [
    "import torch"
   ]
  },
  {
   "cell_type": "code",
   "execution_count": 7,
   "metadata": {},
   "outputs": [
    {
     "name": "stdout",
     "output_type": "stream",
     "text": [
      "-0.9751366982936284\n",
      "-0.09821683928200241\n",
      "0.3560360423972587\n",
      "0.24554209820500603\n",
      "0.012277104910250301\n"
     ]
    }
   ],
   "source": [
    "#inputs\n",
    "x1=torch.Tensor([5.0]).double() ;x1.requires_grad=True\n",
    "x2=torch.Tensor([0.25]).double() ;x2.requires_grad=True\n",
    "\n",
    "\n",
    "#weights\n",
    "w1=torch.Tensor([-2.0]).double() ;w1.requires_grad=True\n",
    "w2=torch.Tensor([7.25]).double() ;w2.requires_grad=True\n",
    "\n",
    "\n",
    "#bias\n",
    "b=torch.Tensor([6.0]).double() ;b.requires_grad=True\n",
    "\n",
    "#cell of neuron before activation function\n",
    "ab=(x1*w1+x2*w2)+b\n",
    "#activationfunction\n",
    "\n",
    "o=torch.tanh(ab)\n",
    "o.backward()\n",
    "print(o.data.item())\n",
    "print(x1.grad.item())\n",
    "print(x2.grad.item())\n",
    "print(w1.grad.item())\n",
    "print(w2.grad.item())\n",
    "\n"
   ]
  },
  {
   "cell_type": "code",
   "execution_count": null,
   "metadata": {},
   "outputs": [],
   "source": []
  }
 ],
 "metadata": {
  "kernelspec": {
   "display_name": "Python 3",
   "language": "python",
   "name": "python3"
  },
  "language_info": {
   "codemirror_mode": {
    "name": "ipython",
    "version": 3
   },
   "file_extension": ".py",
   "mimetype": "text/x-python",
   "name": "python",
   "nbconvert_exporter": "python",
   "pygments_lexer": "ipython3",
   "version": "3.10.12"
  },
  "orig_nbformat": 4
 },
 "nbformat": 4,
 "nbformat_minor": 2
}
