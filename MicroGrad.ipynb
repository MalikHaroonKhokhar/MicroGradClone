{
 "cells": [
  {
   "cell_type": "code",
   "execution_count": 2,
   "metadata": {},
   "outputs": [],
   "source": [
    "import numpy as np"
   ]
  },
  {
   "cell_type": "code",
   "execution_count": 1,
   "metadata": {},
   "outputs": [
    {
     "data": {
      "text/plain": [
       "15"
      ]
     },
     "execution_count": 1,
     "metadata": {},
     "output_type": "execute_result"
    }
   ],
   "source": [
    "a=5\n",
    "b=10\n",
    "a+b"
   ]
  },
  {
   "cell_type": "code",
   "execution_count": 13,
   "metadata": {},
   "outputs": [],
   "source": [
    "import matplotlib.pyplot as plt\n",
    "%matplotlib inline"
   ]
  },
  {
   "cell_type": "code",
   "execution_count": 17,
   "metadata": {},
   "outputs": [],
   "source": [
    "def f(a):\n",
    "    return 3*a**2-4*a+5"
   ]
  },
  {
   "cell_type": "code",
   "execution_count": 21,
   "metadata": {},
   "outputs": [],
   "source": [
    "x=np.arange(-5,5,0.25)\n",
    "y=f(x)\n",
    "f(y)\n",
    "h=0.0001\n"
   ]
  },
  {
   "cell_type": "code",
   "execution_count": 22,
   "metadata": {},
   "outputs": [
    {
     "data": {
      "text/plain": [
       "[<matplotlib.lines.Line2D at 0x7f64d32707f0>]"
      ]
     },
     "execution_count": 22,
     "metadata": {},
     "output_type": "execute_result"
    },
    {
     "data": {
      "image/png": "[encoded data removed]",
      "text/plain": [
       "<Figure size 432x288 with 1 Axes>"
      ]
     },
     "metadata": {
      "needs_background": "light"
     },
     "output_type": "display_data"
    }
   ],
   "source": [
    "plt.plot(f(x),f(y))"
   ]
  },
  {
   "cell_type": "code",
   "execution_count": 26,
   "metadata": {},
   "outputs": [
    {
     "name": "stdout",
     "output_type": "stream",
     "text": [
      "0.9999999999976694\n"
     ]
    }
   ],
   "source": [
    "a=5\n",
    "b=-3\n",
    "c=10\n",
    "t=a*b+c\n",
    "h=0.0001\n",
    "c+=h\n",
    "t2=a*b+c\n",
    "print((t2-t)/h)"
   ]
  },
  {
   "cell_type": "code",
   "execution_count": 52,
   "metadata": {},
   "outputs": [],
   "source": [
    "import math\n",
    "class Value:\n",
    "    def __init__(self,data,_childern=(),_op='',label=''):\n",
    "        self.data=data\n",
    "        self._prev=set(_childern)\n",
    "        self._op=_op\n",
    "        self.label=label\n",
    "        self.grad=0\n",
    "        self._backward=lambda:None\n",
    "    def __repr__(self):\n",
    "        return f\"Value(data={self.data})\"\n",
    "    def __rmul__(self,other):\n",
    "        return self*other\n",
    "    def __add__(self,other):\n",
    "        other=other if isinstance(other,Value) else Value(other)\n",
    "        out=Value(self.data+other.data,(self,other),'+')\n",
    "        def _backward():\n",
    "             self.grad+=1.0*out.grad\n",
    "             other.grad+=1.0*out.grad\n",
    "        out._backward=_backward\n",
    "        return out\n",
    "    def __sub__(self,other):\n",
    "        return Value(self.data-other.data,(self,other),'-')\n",
    "    def __mul__(self,other):\n",
    "        other=other if isinstance(other,Value) else Value(other)\n",
    "\n",
    "        out= Value(self.data*other.data,(self,other),'*')\n",
    "        def _backward():\n",
    "             self.grad+=other.data*out.grad\n",
    "             other.grad+=self.data*out.grad\n",
    "        out._backward=_backward\n",
    "        return out\n",
    "    def tanh(self):\n",
    "        x=self.data\n",
    "        t=(math.exp(2*x)-1)/(math.exp(2*x)+1)\n",
    "        out=Value(t,(self,),'tanh')\n",
    "        def _backward():\n",
    "            self.grad+=(1-t**2)*out.grad\n",
    "        out._backward=_backward\n",
    "        \n",
    "        return out\n",
    "  "
   ]
  },
  {
   "cell_type": "code",
   "execution_count": 50,
   "metadata": {},
   "outputs": [],
   "source": [
    "a=Value(2.0)"
   ]
  },
  {
   "cell_type": "code",
   "execution_count": 6,
   "metadata": {},
   "outputs": [
    {
     "data": {
      "text/plain": [
       "Value(data=2.0)"
      ]
     },
     "execution_count": 6,
     "metadata": {},
     "output_type": "execute_result"
    }
   ],
   "source": [
    "a"
   ]
  },
  {
   "cell_type": "code",
   "execution_count": 7,
   "metadata": {},
   "outputs": [
    {
     "data": {
      "text/plain": [
       "Value(data=5.0)"
      ]
     },
     "execution_count": 7,
     "metadata": {},
     "output_type": "execute_result"
    }
   ],
   "source": [
    "b=Value(3.0)\n",
    "a+b"
   ]
  },
  {
   "cell_type": "code",
   "execution_count": 8,
   "metadata": {},
   "outputs": [
    {
     "name": "stdout",
     "output_type": "stream",
     "text": [
      "Value(data=-1.0)\n",
      "Value(data=6.0)\n"
     ]
    }
   ],
   "source": [
    "print(a-b)\n",
    "print(a*b)\n",
    "\n"
   ]
  },
  {
   "cell_type": "code",
   "execution_count": 9,
   "metadata": {},
   "outputs": [],
   "source": [
    "c=Value(5.0)\n",
    "d=a*b+c\n"
   ]
  },
  {
   "cell_type": "code",
   "execution_count": 10,
   "metadata": {},
   "outputs": [
    {
     "data": {
      "text/plain": [
       "{Value(data=5.0), Value(data=6.0)}"
      ]
     },
     "execution_count": 10,
     "metadata": {},
     "output_type": "execute_result"
    }
   ],
   "source": [
    "d._prev"
   ]
  },
  {
   "cell_type": "code",
   "execution_count": 11,
   "metadata": {},
   "outputs": [
    {
     "data": {
      "text/plain": [
       "'+'"
      ]
     },
     "execution_count": 11,
     "metadata": {},
     "output_type": "execute_result"
    }
   ],
   "source": [
    "d._op"
   ]
  },
  {
   "cell_type": "code",
   "execution_count": 12,
   "metadata": {},
   "outputs": [
    {
     "data": {
      "text/plain": [
       "Value(data=11.0)"
      ]
     },
     "execution_count": 12,
     "metadata": {},
     "output_type": "execute_result"
    }
   ],
   "source": [
    "d"
   ]
  },
  {
   "cell_type": "code",
   "execution_count": 13,
   "metadata": {},
   "outputs": [
    {
     "data": {
      "text/plain": [
       "Value(data=0.9999999994421064)"
      ]
     },
     "execution_count": 13,
     "metadata": {},
     "output_type": "execute_result"
    }
   ],
   "source": [
    "d.tanh()"
   ]
  },
  {
   "cell_type": "code",
   "execution_count": 41,
   "metadata": {},
   "outputs": [],
   "source": [
    "#inputs\n",
    "x1=Value(5,label='x1')\n",
    "x2=Value(0.25,label='x2')\n",
    "#weights\n",
    "w1=Value(-2.0,label='w1')\n",
    "w2=Value(7.25,label='w2')\n",
    "#bias\n",
    "b=Value(6,label='b')\n",
    "#cell of neuron before activation function\n",
    "x1w1=x1*w1\n",
    "x2w2=x2*w2\n",
    "sofw=x1w1+x2w2\n",
    "ab=sofw+b\n",
    "#activationfunction\n",
    "\n",
    "o=ab.tanh()\n",
    "o.label='Out'"
   ]
  },
  {
   "cell_type": "code",
   "execution_count": 15,
   "metadata": {},
   "outputs": [
    {
     "data": {
      "text/plain": [
       "Value(data=-0.9751366982936283)"
      ]
     },
     "execution_count": 15,
     "metadata": {},
     "output_type": "execute_result"
    }
   ],
   "source": [
    "o"
   ]
  },
  {
   "cell_type": "code",
   "execution_count": 16,
   "metadata": {},
   "outputs": [
    {
     "data": {
      "text/plain": [
       "0"
      ]
     },
     "execution_count": 16,
     "metadata": {},
     "output_type": "execute_result"
    }
   ],
   "source": [
    "o.grad"
   ]
  },
  {
   "cell_type": "code",
   "execution_count": 17,
   "metadata": {},
   "outputs": [],
   "source": [
    "o.grad=1"
   ]
  },
  {
   "cell_type": "code",
   "execution_count": 18,
   "metadata": {},
   "outputs": [
    {
     "data": {
      "text/plain": [
       "1"
      ]
     },
     "execution_count": 18,
     "metadata": {},
     "output_type": "execute_result"
    }
   ],
   "source": [
    "o.grad"
   ]
  },
  {
   "cell_type": "code",
   "execution_count": 42,
   "metadata": {},
   "outputs": [],
   "source": [
    "from graphviz import Digraph\n",
    "\n",
    "def trace(root):\n",
    "  # builds a set of all nodes and edges in a graph\n",
    "  nodes, edges = set(), set()\n",
    "  def build(v):\n",
    "    if v not in nodes:\n",
    "      nodes.add(v)\n",
    "      for child in v._prev:\n",
    "        edges.add((child, v))\n",
    "        build(child)\n",
    "  build(root)\n",
    "  return nodes, edges\n",
    "\n",
    "def draw_dot(root):\n",
    "  dot = Digraph(format='svg', graph_attr={'rankdir': 'LR'}) # LR = left to right\n",
    "\n",
    "  nodes, edges = trace(root)\n",
    "  for n in nodes:\n",
    "    uid = str(id(n))\n",
    "    # for any value in the graph, create a rectangular ('record') node for it\n",
    "    dot.node(name = uid, label = \"{ %s | data %.4f | grad %.4f}\" % (n.label, n.data, n.grad), shape='record')\n",
    "    if n._op:\n",
    "      # if this value is a result of some operation, create an op node for it\n",
    "      dot.node(name = uid + n._op, label = n._op)\n",
    "      # and connect this node to it\n",
    "      dot.edge(uid + n._op, uid)\n",
    "\n",
    "  for n1, n2 in edges:\n",
    "    # connect n1 to the op node of n2\n",
    "    dot.edge(str(id(n1)), str(id(n2)) + n2._op)\n",
    "\n",
    "  return dot"
   ]
  },
  {
   "cell_type": "code",
   "execution_count": null,
   "metadata": {},
   "outputs": [],
   "source": []
  },
  {
   "cell_type": "code",
   "execution_count": 20,
   "metadata": {},
   "outputs": [],
   "source": [
    "ab.grad=1-o.data**2"
   ]
  },
  {
   "cell_type": "code",
   "execution_count": 21,
   "metadata": {},
   "outputs": [
    {
     "data": {
      "text/plain": [
       "0.04910841964100143"
      ]
     },
     "execution_count": 21,
     "metadata": {},
     "output_type": "execute_result"
    }
   ],
   "source": [
    "ab.grad"
   ]
  },
  {
   "cell_type": "code",
   "execution_count": 22,
   "metadata": {},
   "outputs": [],
   "source": [
    "sofw.grad=0.0491\n",
    "b.grad=0.0491"
   ]
  },
  {
   "cell_type": "code",
   "execution_count": 23,
   "metadata": {},
   "outputs": [],
   "source": [
    "x1w1.grad=0.0491\n",
    "x2w2.grad=0.0491"
   ]
  },
  {
   "cell_type": "code",
   "execution_count": 24,
   "metadata": {},
   "outputs": [],
   "source": [
    "x1.grad=w1.data*x1w1.grad\n",
    "w1.grad=x1.data*x1w1.grad\n",
    "x2.grad=w2.data*x2w2.grad\n",
    "w2.grad=x2.data*x2w2.grad"
   ]
  },
  {
   "cell_type": "code",
   "execution_count": 47,
   "metadata": {},
   "outputs": [
    {
     "data": {
      "image/svg+xml": [
       "<?xml version=\"1.0\" encoding=\"UTF-8\" standalone=\"no\"?>\n",
       "<!DOCTYPE svg PUBLIC \"-//W3C//DTD SVG 1.1//EN\"\n",
       " \"http://www.w3.org/Graphics/SVG/1.1/DTD/svg11.dtd\">\n",
       "<!-- Generated by graphviz version 2.43.0 (0)\n",
       " -->\n",
       "<!-- Title: %3 Pages: 1 -->\n",
       "<svg width=\"1730pt\" height=\"210pt\"\n",
       " viewBox=\"0.00 0.00 1729.69 210.00\" xmlns=\"http://www.w3.org/2000/svg\" xmlns:xlink=\"http://www.w3.org/1999/xlink\">\n",
       "<g id=\"graph0\" class=\"graph\" transform=\"scale(1 1) rotate(0) translate(4 206)\">\n",
       "<title>%3</title>\n",
       "<polygon fill=\"white\" stroke=\"transparent\" points=\"-4,4 -4,-206 1725.69,-206 1725.69,4 -4,4\"/>\n",
       "<!-- 139926125886528 -->\n",
       "<g id=\"node1\" class=\"node\">\n",
       "<title>139926125886528</title>\n",
       "<polygon fill=\"none\" stroke=\"black\" points=\"1100,-109.5 1100,-145.5 1332,-145.5 1332,-109.5 1100,-109.5\"/>\n",
       "<text text-anchor=\"middle\" x=\"1110.5\" y=\"-123.8\" font-family=\"Times,serif\" font-size=\"14.00\"> </text>\n",
       "<polyline fill=\"none\" stroke=\"black\" points=\"1121,-109.5 1121,-145.5 \"/>\n",
       "<text text-anchor=\"middle\" x=\"1174.5\" y=\"-123.8\" font-family=\"Times,serif\" font-size=\"14.00\">data &#45;2.1875</text>\n",
       "<polyline fill=\"none\" stroke=\"black\" points=\"1228,-109.5 1228,-145.5 \"/>\n",
       "<text text-anchor=\"middle\" x=\"1280\" y=\"-123.8\" font-family=\"Times,serif\" font-size=\"14.00\">grad 0.0982</text>\n",
       "</g>\n",
       "<!-- 139926125886096tanh -->\n",
       "<g id=\"node6\" class=\"node\">\n",
       "<title>139926125886096tanh</title>\n",
       "<ellipse fill=\"none\" stroke=\"black\" cx=\"1399.85\" cy=\"-127.5\" rx=\"31.7\" ry=\"18\"/>\n",
       "<text text-anchor=\"middle\" x=\"1399.85\" y=\"-123.8\" font-family=\"Times,serif\" font-size=\"14.00\">tanh</text>\n",
       "</g>\n",
       "<!-- 139926125886528&#45;&gt;139926125886096tanh -->\n",
       "<g id=\"edge9\" class=\"edge\">\n",
       "<title>139926125886528&#45;&gt;139926125886096tanh</title>\n",
       "<path fill=\"none\" stroke=\"black\" d=\"M1332.17,-127.5C1341.08,-127.5 1349.66,-127.5 1357.53,-127.5\"/>\n",
       "<polygon fill=\"black\" stroke=\"black\" points=\"1357.78,-131 1367.78,-127.5 1357.78,-124 1357.78,-131\"/>\n",
       "</g>\n",
       "<!-- 139926125886528+ -->\n",
       "<g id=\"node2\" class=\"node\">\n",
       "<title>139926125886528+</title>\n",
       "<ellipse fill=\"none\" stroke=\"black\" cx=\"1037\" cy=\"-127.5\" rx=\"27\" ry=\"18\"/>\n",
       "<text text-anchor=\"middle\" x=\"1037\" y=\"-123.8\" font-family=\"Times,serif\" font-size=\"14.00\">+</text>\n",
       "</g>\n",
       "<!-- 139926125886528+&#45;&gt;139926125886528 -->\n",
       "<g id=\"edge1\" class=\"edge\">\n",
       "<title>139926125886528+&#45;&gt;139926125886528</title>\n",
       "<path fill=\"none\" stroke=\"black\" d=\"M1064.12,-127.5C1071.53,-127.5 1080.14,-127.5 1089.4,-127.5\"/>\n",
       "<polygon fill=\"black\" stroke=\"black\" points=\"1089.69,-131 1099.69,-127.5 1089.69,-124 1089.69,-131\"/>\n",
       "</g>\n",
       "<!-- 139926126904896 -->\n",
       "<g id=\"node3\" class=\"node\">\n",
       "<title>139926126904896</title>\n",
       "<polygon fill=\"none\" stroke=\"black\" points=\"2.5,-165.5 2.5,-201.5 246.5,-201.5 246.5,-165.5 2.5,-165.5\"/>\n",
       "<text text-anchor=\"middle\" x=\"21.5\" y=\"-179.8\" font-family=\"Times,serif\" font-size=\"14.00\">w2</text>\n",
       "<polyline fill=\"none\" stroke=\"black\" points=\"40.5,-165.5 40.5,-201.5 \"/>\n",
       "<text text-anchor=\"middle\" x=\"91.5\" y=\"-179.8\" font-family=\"Times,serif\" font-size=\"14.00\">data 7.2500</text>\n",
       "<polyline fill=\"none\" stroke=\"black\" points=\"142.5,-165.5 142.5,-201.5 \"/>\n",
       "<text text-anchor=\"middle\" x=\"194.5\" y=\"-179.8\" font-family=\"Times,serif\" font-size=\"14.00\">grad 0.0614</text>\n",
       "</g>\n",
       "<!-- 139926125883264* -->\n",
       "<g id=\"node13\" class=\"node\">\n",
       "<title>139926125883264*</title>\n",
       "<ellipse fill=\"none\" stroke=\"black\" cx=\"312\" cy=\"-128.5\" rx=\"27\" ry=\"18\"/>\n",
       "<text text-anchor=\"middle\" x=\"312\" y=\"-124.8\" font-family=\"Times,serif\" font-size=\"14.00\">*</text>\n",
       "</g>\n",
       "<!-- 139926126904896&#45;&gt;139926125883264* -->\n",
       "<g id=\"edge13\" class=\"edge\">\n",
       "<title>139926126904896&#45;&gt;139926125883264*</title>\n",
       "<path fill=\"none\" stroke=\"black\" d=\"M218.13,-165.46C228.63,-162.77 239.1,-159.78 249,-156.5 259.71,-152.96 271.05,-148.16 281.07,-143.54\"/>\n",
       "<polygon fill=\"black\" stroke=\"black\" points=\"282.67,-146.66 290.2,-139.21 279.67,-140.33 282.67,-146.66\"/>\n",
       "</g>\n",
       "<!-- 139926126915648 -->\n",
       "<g id=\"node4\" class=\"node\">\n",
       "<title>139926126915648</title>\n",
       "<polygon fill=\"none\" stroke=\"black\" points=\"0,-55.5 0,-91.5 249,-91.5 249,-55.5 0,-55.5\"/>\n",
       "<text text-anchor=\"middle\" x=\"19\" y=\"-69.8\" font-family=\"Times,serif\" font-size=\"14.00\">w1</text>\n",
       "<polyline fill=\"none\" stroke=\"black\" points=\"38,-55.5 38,-91.5 \"/>\n",
       "<text text-anchor=\"middle\" x=\"91.5\" y=\"-69.8\" font-family=\"Times,serif\" font-size=\"14.00\">data &#45;2.0000</text>\n",
       "<polyline fill=\"none\" stroke=\"black\" points=\"145,-55.5 145,-91.5 \"/>\n",
       "<text text-anchor=\"middle\" x=\"197\" y=\"-69.8\" font-family=\"Times,serif\" font-size=\"14.00\">grad 1.2277</text>\n",
       "</g>\n",
       "<!-- 139926125879760* -->\n",
       "<g id=\"node15\" class=\"node\">\n",
       "<title>139926125879760*</title>\n",
       "<ellipse fill=\"none\" stroke=\"black\" cx=\"312\" cy=\"-73.5\" rx=\"27\" ry=\"18\"/>\n",
       "<text text-anchor=\"middle\" x=\"312\" y=\"-69.8\" font-family=\"Times,serif\" font-size=\"14.00\">*</text>\n",
       "</g>\n",
       "<!-- 139926126915648&#45;&gt;139926125879760* -->\n",
       "<g id=\"edge8\" class=\"edge\">\n",
       "<title>139926126915648&#45;&gt;139926125879760*</title>\n",
       "<path fill=\"none\" stroke=\"black\" d=\"M249.23,-73.5C258.37,-73.5 267.05,-73.5 274.87,-73.5\"/>\n",
       "<polygon fill=\"black\" stroke=\"black\" points=\"274.95,-77 284.95,-73.5 274.95,-70 274.95,-77\"/>\n",
       "</g>\n",
       "<!-- 139926125886096 -->\n",
       "<g id=\"node5\" class=\"node\">\n",
       "<title>139926125886096</title>\n",
       "<polygon fill=\"none\" stroke=\"black\" points=\"1467.69,-109.5 1467.69,-145.5 1721.69,-145.5 1721.69,-109.5 1467.69,-109.5\"/>\n",
       "<text text-anchor=\"middle\" x=\"1489.19\" y=\"-123.8\" font-family=\"Times,serif\" font-size=\"14.00\">Out</text>\n",
       "<polyline fill=\"none\" stroke=\"black\" points=\"1510.69,-109.5 1510.69,-145.5 \"/>\n",
       "<text text-anchor=\"middle\" x=\"1564.19\" y=\"-123.8\" font-family=\"Times,serif\" font-size=\"14.00\">data &#45;0.9751</text>\n",
       "<polyline fill=\"none\" stroke=\"black\" points=\"1617.69,-109.5 1617.69,-145.5 \"/>\n",
       "<text text-anchor=\"middle\" x=\"1669.69\" y=\"-123.8\" font-family=\"Times,serif\" font-size=\"14.00\">grad 1.0000</text>\n",
       "</g>\n",
       "<!-- 139926125886096tanh&#45;&gt;139926125886096 -->\n",
       "<g id=\"edge2\" class=\"edge\">\n",
       "<title>139926125886096tanh&#45;&gt;139926125886096</title>\n",
       "<path fill=\"none\" stroke=\"black\" d=\"M1431.83,-127.5C1439.42,-127.5 1448.02,-127.5 1457.22,-127.5\"/>\n",
       "<polygon fill=\"black\" stroke=\"black\" points=\"1457.41,-131 1467.41,-127.5 1457.41,-124 1457.41,-131\"/>\n",
       "</g>\n",
       "<!-- 139926126913200 -->\n",
       "<g id=\"node7\" class=\"node\">\n",
       "<title>139926126913200</title>\n",
       "<polygon fill=\"none\" stroke=\"black\" points=\"742,-137.5 742,-173.5 974,-173.5 974,-137.5 742,-137.5\"/>\n",
       "<text text-anchor=\"middle\" x=\"755\" y=\"-151.8\" font-family=\"Times,serif\" font-size=\"14.00\">b</text>\n",
       "<polyline fill=\"none\" stroke=\"black\" points=\"768,-137.5 768,-173.5 \"/>\n",
       "<text text-anchor=\"middle\" x=\"819\" y=\"-151.8\" font-family=\"Times,serif\" font-size=\"14.00\">data 6.0000</text>\n",
       "<polyline fill=\"none\" stroke=\"black\" points=\"870,-137.5 870,-173.5 \"/>\n",
       "<text text-anchor=\"middle\" x=\"922\" y=\"-151.8\" font-family=\"Times,serif\" font-size=\"14.00\">grad 0.1473</text>\n",
       "</g>\n",
       "<!-- 139926126913200&#45;&gt;139926125886528+ -->\n",
       "<g id=\"edge6\" class=\"edge\">\n",
       "<title>139926126913200&#45;&gt;139926125886528+</title>\n",
       "<path fill=\"none\" stroke=\"black\" d=\"M973.1,-137.45C982.88,-135.9 992.21,-134.43 1000.54,-133.11\"/>\n",
       "<polygon fill=\"black\" stroke=\"black\" points=\"1001.19,-136.55 1010.52,-131.53 1000.1,-129.64 1001.19,-136.55\"/>\n",
       "</g>\n",
       "<!-- 139926125884128 -->\n",
       "<g id=\"node8\" class=\"node\">\n",
       "<title>139926125884128</title>\n",
       "<polygon fill=\"none\" stroke=\"black\" points=\"742,-82.5 742,-118.5 974,-118.5 974,-82.5 742,-82.5\"/>\n",
       "<text text-anchor=\"middle\" x=\"752.5\" y=\"-96.8\" font-family=\"Times,serif\" font-size=\"14.00\"> </text>\n",
       "<polyline fill=\"none\" stroke=\"black\" points=\"763,-82.5 763,-118.5 \"/>\n",
       "<text text-anchor=\"middle\" x=\"816.5\" y=\"-96.8\" font-family=\"Times,serif\" font-size=\"14.00\">data &#45;8.1875</text>\n",
       "<polyline fill=\"none\" stroke=\"black\" points=\"870,-82.5 870,-118.5 \"/>\n",
       "<text text-anchor=\"middle\" x=\"922\" y=\"-96.8\" font-family=\"Times,serif\" font-size=\"14.00\">grad 0.1473</text>\n",
       "</g>\n",
       "<!-- 139926125884128&#45;&gt;139926125886528+ -->\n",
       "<g id=\"edge11\" class=\"edge\">\n",
       "<title>139926125884128&#45;&gt;139926125886528+</title>\n",
       "<path fill=\"none\" stroke=\"black\" d=\"M974.09,-118.06C983.46,-119.49 992.39,-120.85 1000.4,-122.07\"/>\n",
       "<polygon fill=\"black\" stroke=\"black\" points=\"999.96,-125.54 1010.37,-123.59 1001.01,-118.62 999.96,-125.54\"/>\n",
       "</g>\n",
       "<!-- 139926125884128+ -->\n",
       "<g id=\"node9\" class=\"node\">\n",
       "<title>139926125884128+</title>\n",
       "<ellipse fill=\"none\" stroke=\"black\" cx=\"679\" cy=\"-100.5\" rx=\"27\" ry=\"18\"/>\n",
       "<text text-anchor=\"middle\" x=\"679\" y=\"-96.8\" font-family=\"Times,serif\" font-size=\"14.00\">+</text>\n",
       "</g>\n",
       "<!-- 139926125884128+&#45;&gt;139926125884128 -->\n",
       "<g id=\"edge3\" class=\"edge\">\n",
       "<title>139926125884128+&#45;&gt;139926125884128</title>\n",
       "<path fill=\"none\" stroke=\"black\" d=\"M706.12,-100.5C713.53,-100.5 722.14,-100.5 731.4,-100.5\"/>\n",
       "<polygon fill=\"black\" stroke=\"black\" points=\"731.69,-104 741.69,-100.5 731.69,-97 731.69,-104\"/>\n",
       "</g>\n",
       "<!-- 139926126917856 -->\n",
       "<g id=\"node10\" class=\"node\">\n",
       "<title>139926126917856</title>\n",
       "<polygon fill=\"none\" stroke=\"black\" points=\"4.5,-110.5 4.5,-146.5 244.5,-146.5 244.5,-110.5 4.5,-110.5\"/>\n",
       "<text text-anchor=\"middle\" x=\"21.5\" y=\"-124.8\" font-family=\"Times,serif\" font-size=\"14.00\">x2</text>\n",
       "<polyline fill=\"none\" stroke=\"black\" points=\"38.5,-110.5 38.5,-146.5 \"/>\n",
       "<text text-anchor=\"middle\" x=\"89.5\" y=\"-124.8\" font-family=\"Times,serif\" font-size=\"14.00\">data 0.2500</text>\n",
       "<polyline fill=\"none\" stroke=\"black\" points=\"140.5,-110.5 140.5,-146.5 \"/>\n",
       "<text text-anchor=\"middle\" x=\"192.5\" y=\"-124.8\" font-family=\"Times,serif\" font-size=\"14.00\">grad 1.7802</text>\n",
       "</g>\n",
       "<!-- 139926126917856&#45;&gt;139926125883264* -->\n",
       "<g id=\"edge7\" class=\"edge\">\n",
       "<title>139926126917856&#45;&gt;139926125883264*</title>\n",
       "<path fill=\"none\" stroke=\"black\" d=\"M244.55,-128.5C255.31,-128.5 265.54,-128.5 274.62,-128.5\"/>\n",
       "<polygon fill=\"black\" stroke=\"black\" points=\"274.7,-132 284.7,-128.5 274.7,-125 274.7,-132\"/>\n",
       "</g>\n",
       "<!-- 139926126909792 -->\n",
       "<g id=\"node11\" class=\"node\">\n",
       "<title>139926126909792</title>\n",
       "<polygon fill=\"none\" stroke=\"black\" points=\"2.5,-0.5 2.5,-36.5 246.5,-36.5 246.5,-0.5 2.5,-0.5\"/>\n",
       "<text text-anchor=\"middle\" x=\"19.5\" y=\"-14.8\" font-family=\"Times,serif\" font-size=\"14.00\">x1</text>\n",
       "<polyline fill=\"none\" stroke=\"black\" points=\"36.5,-0.5 36.5,-36.5 \"/>\n",
       "<text text-anchor=\"middle\" x=\"87.5\" y=\"-14.8\" font-family=\"Times,serif\" font-size=\"14.00\">data 5.0000</text>\n",
       "<polyline fill=\"none\" stroke=\"black\" points=\"138.5,-0.5 138.5,-36.5 \"/>\n",
       "<text text-anchor=\"middle\" x=\"192.5\" y=\"-14.8\" font-family=\"Times,serif\" font-size=\"14.00\">grad &#45;0.4911</text>\n",
       "</g>\n",
       "<!-- 139926126909792&#45;&gt;139926125879760* -->\n",
       "<g id=\"edge12\" class=\"edge\">\n",
       "<title>139926126909792&#45;&gt;139926125879760*</title>\n",
       "<path fill=\"none\" stroke=\"black\" d=\"M214.42,-36.55C226.15,-39.54 237.93,-42.87 249,-46.5 259.46,-49.93 270.57,-54.47 280.46,-58.84\"/>\n",
       "<polygon fill=\"black\" stroke=\"black\" points=\"279.31,-62.17 289.87,-63.12 282.21,-55.79 279.31,-62.17\"/>\n",
       "</g>\n",
       "<!-- 139926125883264 -->\n",
       "<g id=\"node12\" class=\"node\">\n",
       "<title>139926125883264</title>\n",
       "<polygon fill=\"none\" stroke=\"black\" points=\"382,-110.5 382,-146.5 609,-146.5 609,-110.5 382,-110.5\"/>\n",
       "<text text-anchor=\"middle\" x=\"392.5\" y=\"-124.8\" font-family=\"Times,serif\" font-size=\"14.00\"> </text>\n",
       "<polyline fill=\"none\" stroke=\"black\" points=\"403,-110.5 403,-146.5 \"/>\n",
       "<text text-anchor=\"middle\" x=\"454\" y=\"-124.8\" font-family=\"Times,serif\" font-size=\"14.00\">data 1.8125</text>\n",
       "<polyline fill=\"none\" stroke=\"black\" points=\"505,-110.5 505,-146.5 \"/>\n",
       "<text text-anchor=\"middle\" x=\"557\" y=\"-124.8\" font-family=\"Times,serif\" font-size=\"14.00\">grad 0.1964</text>\n",
       "</g>\n",
       "<!-- 139926125883264&#45;&gt;139926125884128+ -->\n",
       "<g id=\"edge10\" class=\"edge\">\n",
       "<title>139926125883264&#45;&gt;139926125884128+</title>\n",
       "<path fill=\"none\" stroke=\"black\" d=\"M609.12,-111.13C621.02,-109.29 632.38,-107.54 642.32,-106\"/>\n",
       "<polygon fill=\"black\" stroke=\"black\" points=\"643.16,-109.42 652.51,-104.43 642.1,-102.5 643.16,-109.42\"/>\n",
       "</g>\n",
       "<!-- 139926125883264*&#45;&gt;139926125883264 -->\n",
       "<g id=\"edge4\" class=\"edge\">\n",
       "<title>139926125883264*&#45;&gt;139926125883264</title>\n",
       "<path fill=\"none\" stroke=\"black\" d=\"M339,-128.5C348.27,-128.5 359.42,-128.5 371.43,-128.5\"/>\n",
       "<polygon fill=\"black\" stroke=\"black\" points=\"371.7,-132 381.7,-128.5 371.7,-125 371.7,-132\"/>\n",
       "</g>\n",
       "<!-- 139926125879760 -->\n",
       "<g id=\"node14\" class=\"node\">\n",
       "<title>139926125879760</title>\n",
       "<polygon fill=\"none\" stroke=\"black\" points=\"375,-55.5 375,-91.5 616,-91.5 616,-55.5 375,-55.5\"/>\n",
       "<text text-anchor=\"middle\" x=\"385.5\" y=\"-69.8\" font-family=\"Times,serif\" font-size=\"14.00\"> </text>\n",
       "<polyline fill=\"none\" stroke=\"black\" points=\"396,-55.5 396,-91.5 \"/>\n",
       "<text text-anchor=\"middle\" x=\"454\" y=\"-69.8\" font-family=\"Times,serif\" font-size=\"14.00\">data &#45;10.0000</text>\n",
       "<polyline fill=\"none\" stroke=\"black\" points=\"512,-55.5 512,-91.5 \"/>\n",
       "<text text-anchor=\"middle\" x=\"564\" y=\"-69.8\" font-family=\"Times,serif\" font-size=\"14.00\">grad 0.1964</text>\n",
       "</g>\n",
       "<!-- 139926125879760&#45;&gt;139926125884128+ -->\n",
       "<g id=\"edge14\" class=\"edge\">\n",
       "<title>139926125879760&#45;&gt;139926125884128+</title>\n",
       "<path fill=\"none\" stroke=\"black\" d=\"M616.05,-91.28C625.46,-92.68 634.41,-94.02 642.44,-95.21\"/>\n",
       "<polygon fill=\"black\" stroke=\"black\" points=\"642.01,-98.68 652.41,-96.69 643.04,-91.76 642.01,-98.68\"/>\n",
       "</g>\n",
       "<!-- 139926125879760*&#45;&gt;139926125879760 -->\n",
       "<g id=\"edge5\" class=\"edge\">\n",
       "<title>139926125879760*&#45;&gt;139926125879760</title>\n",
       "<path fill=\"none\" stroke=\"black\" d=\"M339,-73.5C346.5,-73.5 355.22,-73.5 364.64,-73.5\"/>\n",
       "<polygon fill=\"black\" stroke=\"black\" points=\"364.68,-77 374.68,-73.5 364.68,-70 364.68,-77\"/>\n",
       "</g>\n",
       "</g>\n",
       "</svg>\n"
      ],
      "text/plain": [
       "<graphviz.graphs.Digraph at 0x7f4317056b60>"
      ]
     },
     "execution_count": 47,
     "metadata": {},
     "output_type": "execute_result"
    }
   ],
   "source": [
    "draw_dot(o)"
   ]
  },
  {
   "cell_type": "code",
   "execution_count": 46,
   "metadata": {},
   "outputs": [],
   "source": [
    "o.grad=1.0\n",
    "o._backward()\n",
    "ab._backward()\n",
    "sofw._backward()\n",
    "b._backward()\n",
    "x1w1._backward()\n",
    "x2w2._backward()\n",
    "\n"
   ]
  },
  {
   "cell_type": "code",
   "execution_count": 51,
   "metadata": {},
   "outputs": [
    {
     "data": {
      "text/plain": [
       "Value(data=3.0)"
      ]
     },
     "execution_count": 51,
     "metadata": {},
     "output_type": "execute_result"
    }
   ],
   "source": [
    "a+1"
   ]
  },
  {
   "cell_type": "code",
   "execution_count": null,
   "metadata": {},
   "outputs": [],
   "source": []
  }
 ],
 "metadata": {
  "kernelspec": {
   "display_name": "Python 3",
   "language": "python",
   "name": "python3"
  },
  "language_info": {
   "codemirror_mode": {
    "name": "ipython",
    "version": 3
   },
   "file_extension": ".py",
   "mimetype": "text/x-python",
   "name": "python",
   "nbconvert_exporter": "python",
   "pygments_lexer": "ipython3",
   "version": "3.10.12"
  },
  "orig_nbformat": 4
 },
 "nbformat": 4,
 "nbformat_minor": 2
}
